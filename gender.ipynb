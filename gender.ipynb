{
 "cells": [
  {
   "cell_type": "code",
   "execution_count": 19,
   "id": "f77e82e0",
   "metadata": {
    "ExecuteTime": {
     "end_time": "2023-08-09T05:00:26.472437300Z",
     "start_time": "2023-08-09T05:00:26.469475900Z"
    }
   },
   "outputs": [],
   "source": [
    "import numpy as np"
   ]
  },
  {
   "cell_type": "code",
   "execution_count": 20,
   "id": "74d83dcc",
   "metadata": {
    "ExecuteTime": {
     "end_time": "2023-08-09T05:00:26.487497100Z",
     "start_time": "2023-08-09T05:00:26.472437300Z"
    }
   },
   "outputs": [],
   "source": [
    "def sigmoid(x):\n",
    "  # Sigmoid activation function: f(x) = 1 / (1 + e^(-x))\n",
    "  return 1 / (1 + np.exp(-x))"
   ]
  },
  {
   "cell_type": "code",
   "execution_count": 21,
   "id": "c6d05bbc",
   "metadata": {
    "ExecuteTime": {
     "end_time": "2023-08-09T05:00:26.487497100Z",
     "start_time": "2023-08-09T05:00:26.478548600Z"
    }
   },
   "outputs": [],
   "source": [
    "def deriv_sigmoid(x):\n",
    "  # Derivative of sigmoid: f'(x) = f(x) * (1 - f(x))\n",
    "  fx = sigmoid(x)\n",
    "  return fx * (1 - fx)\n"
   ]
  },
  {
   "cell_type": "code",
   "execution_count": 22,
   "id": "c0a9b65f",
   "metadata": {
    "ExecuteTime": {
     "end_time": "2023-08-09T05:00:26.488497400Z",
     "start_time": "2023-08-09T05:00:26.483716200Z"
    }
   },
   "outputs": [],
   "source": [
    "def mse_loss(y_true, y_pred):\n",
    "  # y_true and y_pred are numpy arrays of the same length.\n",
    "  return ((y_true - y_pred) ** 2).mean()"
   ]
  },
  {
   "cell_type": "code",
   "execution_count": 23,
   "id": "04983f30",
   "metadata": {
    "ExecuteTime": {
     "end_time": "2023-08-09T05:00:26.535824400Z",
     "start_time": "2023-08-09T05:00:26.528011900Z"
    }
   },
   "outputs": [],
   "source": [
    "class OurNeuralNetwork:\n",
    "  '''\n",
    "  A neural network with:\n",
    "    - 2 inputs\n",
    "    - a hidden layer with 2 neurons (h1, h2)\n",
    "    - an output layer with 1 neuron (o1)\n",
    "  *** DISCLAIMER ***:\n",
    "  The code below is intended to be simple and educational, NOT optimal.\n",
    "  Real neural net code looks nothing like this. DO NOT use this code.\n",
    "  Instead, read/run it to understand how this specific network works.\n",
    "  '''\n",
    "  def __init__(self):\n",
    "    # Weights\n",
    "    self.w1 = np.random.normal()\n",
    "    self.w2 = np.random.normal()\n",
    "    self.w3 = np.random.normal()\n",
    "    self.w4 = np.random.normal()\n",
    "    self.w5 = np.random.normal()\n",
    "    self.w6 = np.random.normal()\n",
    "\n",
    "    # Biases\n",
    "    self.b1 = np.random.normal()\n",
    "    self.b2 = np.random.normal()\n",
    "    self.b3 = np.random.normal()\n",
    "\n",
    "  def feedforward(self, x):\n",
    "    # x is a numpy array with 2 elements.\n",
    "    h1 = sigmoid(self.w1 * x[0] + self.w2 * x[1] + self.b1)\n",
    "    h2 = sigmoid(self.w3 * x[0] + self.w4 * x[1] + self.b2)\n",
    "    o1 = sigmoid(self.w5 * h1 + self.w6 * h2 + self.b3)\n",
    "    return o1\n",
    "\n",
    "  def train(self, data, all_y_trues):\n",
    "    \n",
    "    learn_rate = 0.001\n",
    "    epochs = 10000 # number of times to loop through the entire dataset\n",
    "    losses=[]\n",
    "\n",
    "    for epoch in range(epochs):\n",
    "      for x, y_true in zip(data, all_y_trues):\n",
    "        # --- Do a feedforward (we'll need these values later)\n",
    "        sum_h1 = self.w1 * x[0] + self.w2 * x[1] + self.b1\n",
    "        h1 = sigmoid(sum_h1)\n",
    "\n",
    "        sum_h2 = self.w3 * x[0] + self.w4 * x[1] + self.b2\n",
    "        h2 = sigmoid(sum_h2)\n",
    "\n",
    "        sum_o1 = self.w5 * h1 + self.w6 * h2 + self.b3\n",
    "        o1 = sigmoid(sum_o1)\n",
    "        y_pred = o1\n",
    "\n",
    "        # --- Calculate partial derivatives.\n",
    "        # --- Naming: d_L_d_w1 represents \"partial L / partial w1\"\n",
    "        d_L_d_ypred = -2 * (y_true - y_pred)\n",
    "\n",
    "        # Neuron o1\n",
    "        d_ypred_d_w5 = h1 * deriv_sigmoid(sum_o1)\n",
    "        d_ypred_d_w6 = h2 * deriv_sigmoid(sum_o1)\n",
    "        d_ypred_d_b3 = deriv_sigmoid(sum_o1)\n",
    "\n",
    "        d_ypred_d_h1 = self.w5 * deriv_sigmoid(sum_o1)\n",
    "        d_ypred_d_h2 = self.w6 * deriv_sigmoid(sum_o1)\n",
    "\n",
    "        # Neuron h1\n",
    "        d_h1_d_w1 = x[0] * deriv_sigmoid(sum_h1)\n",
    "        d_h1_d_w2 = x[1] * deriv_sigmoid(sum_h1)\n",
    "        d_h1_d_b1 = deriv_sigmoid(sum_h1)\n",
    "\n",
    "        # Neuron h2\n",
    "        d_h2_d_w3 = x[0] * deriv_sigmoid(sum_h2)\n",
    "        d_h2_d_w4 = x[1] * deriv_sigmoid(sum_h2)\n",
    "        d_h2_d_b2 = deriv_sigmoid(sum_h2)\n",
    "\n",
    "        # --- Update weights and biases\n",
    "        # Neuron h1\n",
    "        self.w1 -= learn_rate * d_L_d_ypred * d_ypred_d_h1 * d_h1_d_w1\n",
    "        self.w2 -= learn_rate * d_L_d_ypred * d_ypred_d_h1 * d_h1_d_w2\n",
    "        self.b1 -= learn_rate * d_L_d_ypred * d_ypred_d_h1 * d_h1_d_b1\n",
    "\n",
    "        # Neuron h2\n",
    "        self.w3 -= learn_rate * d_L_d_ypred * d_ypred_d_h2 * d_h2_d_w3\n",
    "        self.w4 -= learn_rate * d_L_d_ypred * d_ypred_d_h2 * d_h2_d_w4\n",
    "        self.b2 -= learn_rate * d_L_d_ypred * d_ypred_d_h2 * d_h2_d_b2\n",
    "\n",
    "        # Neuron o1\n",
    "        self.w5 -= learn_rate * d_L_d_ypred * d_ypred_d_w5\n",
    "        self.w6 -= learn_rate * d_L_d_ypred * d_ypred_d_w6\n",
    "        self.b3 -= learn_rate * d_L_d_ypred * d_ypred_d_b3\n",
    "\n",
    "      # --- Calculate total loss at the end of each epoch\n",
    "      if epoch % 200 == 0:\n",
    "        y_preds = np.apply_along_axis(self.feedforward, 1, data)\n",
    "        loss = mse_loss(all_y_trues, y_preds)\n",
    "        losses.append(loss)\n",
    "        print(\"Epoch %d loss: %.3f\" % (epoch, loss))\n",
    "        \n",
    "    return losses"
   ]
  },
  {
   "cell_type": "code",
   "execution_count": 24,
   "id": "baf22c85",
   "metadata": {
    "ExecuteTime": {
     "end_time": "2023-08-09T05:00:26.542193700Z",
     "start_time": "2023-08-09T05:00:26.535824400Z"
    }
   },
   "outputs": [],
   "source": [
    "# data = np.array([\n",
    "#   [-3, -12],  # Rachel\n",
    "#   [-8, 3],   # Monica\n",
    "#   [14, 1],   # Joey\n",
    "#   [3, 9], # Rose\n",
    "# ])\n",
    "# all_y_trues = np.array([\n",
    "#   0, # Rachel\n",
    "#   0, # Monica\n",
    "#   1, # Joey\n",
    "#   1, # Rose\n",
    "# ])\n",
    "\n",
    "\n",
    "\n",
    "with open(\"gender.csv\") as f: # this should be done in pandas but i wanted to stay as vanilla as possible\n",
    "    contents = f.read().split(\"\\n\")\n",
    "    original_data = [x.split(\",\") for x in contents]\n",
    "    for person in original_data:\n",
    "        for index, nums in enumerate(person):\n",
    "          if index == 1:\n",
    "            if person[index - 1] == 1:\n",
    "              person[index] = int(nums) - 140\n",
    "            else:\n",
    "              person[index] = int(nums) - 170\n",
    "          elif index == 2:\n",
    "            if person[index - 1] == 1:\n",
    "              person[index] = int(nums) - 80\n",
    "            else:\n",
    "              person[index] = int(nums) - 90\n",
    "          else:\n",
    "            person[index] = int(nums)\n",
    "\n",
    "\n",
    "    all_y_trues = []\n",
    "    data = []\n",
    "    for person in original_data:\n",
    "        data.append(person[1:])\n",
    "        all_y_trues.append(person[0])\n",
    "\n",
    "\n",
    "\n",
    "#\n",
    "data = np.array(data)\n",
    "\n",
    "\n",
    "all_y_trues = np.array(all_y_trues)"
   ]
  },
  {
   "cell_type": "code",
   "execution_count": 25,
   "id": "52323371",
   "metadata": {
    "ExecuteTime": {
     "end_time": "2023-08-09T05:00:26.545874700Z",
     "start_time": "2023-08-09T05:00:26.543188500Z"
    }
   },
   "outputs": [],
   "source": [
    "network = OurNeuralNetwork()"
   ]
  },
  {
   "cell_type": "code",
   "execution_count": 26,
   "id": "f7b3ae1c",
   "metadata": {
    "ExecuteTime": {
     "end_time": "2023-08-09T05:01:24.823820700Z",
     "start_time": "2023-08-09T05:00:26.546875900Z"
    }
   },
   "outputs": [
    {
     "name": "stdout",
     "output_type": "stream",
     "text": [
      "Epoch 0 loss: 0.265\n",
      "Epoch 200 loss: 0.180\n",
      "Epoch 400 loss: 0.175\n",
      "Epoch 600 loss: 0.173\n",
      "Epoch 800 loss: 0.172\n",
      "Epoch 1000 loss: 0.172\n",
      "Epoch 1200 loss: 0.171\n",
      "Epoch 1400 loss: 0.171\n",
      "Epoch 1600 loss: 0.171\n",
      "Epoch 1800 loss: 0.171\n",
      "Epoch 2000 loss: 0.171\n",
      "Epoch 2200 loss: 0.171\n",
      "Epoch 2400 loss: 0.171\n",
      "Epoch 2600 loss: 0.171\n",
      "Epoch 2800 loss: 0.171\n",
      "Epoch 3000 loss: 0.171\n",
      "Epoch 3200 loss: 0.170\n",
      "Epoch 3400 loss: 0.170\n",
      "Epoch 3600 loss: 0.170\n",
      "Epoch 3800 loss: 0.170\n",
      "Epoch 4000 loss: 0.170\n",
      "Epoch 4200 loss: 0.170\n",
      "Epoch 4400 loss: 0.170\n",
      "Epoch 4600 loss: 0.170\n",
      "Epoch 4800 loss: 0.170\n",
      "Epoch 5000 loss: 0.170\n",
      "Epoch 5200 loss: 0.170\n",
      "Epoch 5400 loss: 0.170\n",
      "Epoch 5600 loss: 0.170\n",
      "Epoch 5800 loss: 0.170\n",
      "Epoch 6000 loss: 0.170\n",
      "Epoch 6200 loss: 0.170\n",
      "Epoch 6400 loss: 0.170\n",
      "Epoch 6600 loss: 0.170\n",
      "Epoch 6800 loss: 0.170\n",
      "Epoch 7000 loss: 0.170\n",
      "Epoch 7200 loss: 0.170\n",
      "Epoch 7400 loss: 0.170\n",
      "Epoch 7600 loss: 0.170\n",
      "Epoch 7800 loss: 0.170\n",
      "Epoch 8000 loss: 0.170\n",
      "Epoch 8200 loss: 0.170\n",
      "Epoch 8400 loss: 0.170\n",
      "Epoch 8600 loss: 0.170\n",
      "Epoch 8800 loss: 0.170\n",
      "Epoch 9000 loss: 0.170\n",
      "Epoch 9200 loss: 0.170\n",
      "Epoch 9400 loss: 0.170\n",
      "Epoch 9600 loss: 0.170\n",
      "Epoch 9800 loss: 0.170\n"
     ]
    }
   ],
   "source": [
    "losses=network.train(data, all_y_trues)"
   ]
  }
 ],
 "metadata": {
  "kernelspec": {
   "display_name": "Python 3 (ipykernel)",
   "language": "python",
   "name": "python3"
  },
  "language_info": {
   "codemirror_mode": {
    "name": "ipython",
    "version": 3
   },
   "file_extension": ".py",
   "mimetype": "text/x-python",
   "name": "python",
   "nbconvert_exporter": "python",
   "pygments_lexer": "ipython3",
   "version": "3.8.13"
  }
 },
 "nbformat": 4,
 "nbformat_minor": 5
}
